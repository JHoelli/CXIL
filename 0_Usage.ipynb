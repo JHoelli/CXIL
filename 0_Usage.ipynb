{
 "cells": [
  {
   "cell_type": "markdown",
   "metadata": {},
   "source": [
    "# Usage \n",
    "This notebook visualizes how CXIL can be utilized. "
   ]
  },
  {
   "cell_type": "code",
   "execution_count": 1,
   "metadata": {},
   "outputs": [
    {
     "name": "stderr",
     "output_type": "stream",
     "text": [
      "/home/jacqueline/.local/share/virtualenvs/CXIL-SZXwGOj4/lib/python3.10/site-packages/tqdm/auto.py:21: TqdmWarning: IProgress not found. Please update jupyter and ipywidgets. See https://ipywidgets.readthedocs.io/en/stable/user_install.html\n",
      "  from .autonotebook import tqdm as notebook_tqdm\n"
     ]
    }
   ],
   "source": [
    "from captum.attr import InputXGradient\n",
    "import warnings\n",
    "from CXIL.caipi.Transformer import MeanAndStdTransformer, randomTransformer\n",
    "from CXIL.Benchmarking.metrics.Helper import get_mask\n",
    "from CXIL.Data.DataLoader import load_data_and_sim,timeseries\n",
    "from CXIL.Learning import LearnerStep, Replay\n",
    "from CXIL.Models.SimpleCNN import SimpleCNN,CNN\n",
    "from CXIL.Models.SimpleModel import SimpleMLP\n",
    "from CXIL.Models.Simple1DResNet import ResNetBaseline\n",
    "from CXIL.caipi.CAipi_without_TKadd import caipi\n",
    "from torch.utils.data import DataLoader\n",
    "from torch.utils.data import TensorDataset\n",
    "import numpy as np"
   ]
  },
  {
   "cell_type": "markdown",
   "metadata": {},
   "source": [
    "## Load Data\n",
    "\n",
    "The dataset should be a numpy array and the labels ordinal encoded. "
   ]
  },
  {
   "cell_type": "code",
   "execution_count": 2,
   "metadata": {},
   "outputs": [
    {
     "name": "stdout",
     "output_type": "stream",
     "text": [
      "/home/jacqueline/Desktop/CXIL/CXIL\n"
     ]
    }
   ],
   "source": [
    "# Load the Data\n",
    "dataset ='tabular'\n",
    "X,y,X_train,y_train,X_test,y_test, simulation= load_data_and_sim(dataset)"
   ]
  },
  {
   "cell_type": "markdown",
   "metadata": {},
   "source": [
    "## Initialize Model \n",
    "Initalize the model you want to use for the task, the models weigjhts can be untrained or trained."
   ]
  },
  {
   "cell_type": "code",
   "execution_count": 3,
   "metadata": {},
   "outputs": [],
   "source": [
    "# Initialize a Model \n",
    "model = SimpleMLP(10, 15)"
   ]
  },
  {
   "cell_type": "markdown",
   "metadata": {},
   "source": [
    "# Build the CXIL Learner \n",
    "\n",
    "The Basic learner can be any of the continous algorithms contained in this Package. For the exact parameter option, please refer to the code documentation.\n"
   ]
  },
  {
   "cell_type": "markdown",
   "metadata": {},
   "source": [
    "Learner Options: \n",
    "- MAS.MAS\n",
    "- Synaptic_Intelligence.Synaptic_Intelligence\n",
    "- EWC.Elastic_Weight_Regularizer"
   ]
  },
  {
   "cell_type": "code",
   "execution_count": 4,
   "metadata": {},
   "outputs": [],
   "source": [
    "# Choose a Learner\n",
    "learn = LearnerStep.Basic(model)"
   ]
  },
  {
   "cell_type": "code",
   "execution_count": 5,
   "metadata": {},
   "outputs": [],
   "source": [
    "# Choose a Replay Strategy -- Not necessary, if you do not want to use replay.\n",
    "learn_replay=Replay.ReplayStrategyLearner(learn, num_classes=10,mem_size = 100,batch_size= 32)"
   ]
  },
  {
   "cell_type": "code",
   "execution_count": 6,
   "metadata": {},
   "outputs": [],
   "source": [
    "# Choose the Interaction Type\n",
    "# For RRR\n",
    "#loss= LearnerStep.RRR_Learner(InputXGradient,simulation,model)\n",
    "#int_train= RightRightReasons.RRR(model,learn,test_data=(X_test,y_test),simulation_logic=simulation,silent=0)\n",
    "# For CAIPI\n",
    "cai=caipi(model,  learn_replay,transformer=MeanAndStdTransformer(model,num_samples=1), evaluate_data= (X_test,y_test),silent=1,simulation_logic=simulation)"
   ]
  },
  {
   "cell_type": "markdown",
   "metadata": {},
   "source": [
    "## Learn a Sample"
   ]
  },
  {
   "cell_type": "code",
   "execution_count": 7,
   "metadata": {},
   "outputs": [
    {
     "name": "stderr",
     "output_type": "stream",
     "text": [
      "/home/jacqueline/.local/share/virtualenvs/CXIL-SZXwGOj4/lib/python3.10/site-packages/captum/_utils/gradient.py:57: UserWarning: Input Tensor 0 did not already require gradients, required_grads has been set automatically.\n",
      "  warnings.warn(\n"
     ]
    },
    {
     "name": "stdout",
     "output_type": "stream",
     "text": [
      "DATA FROM UPDATE 1\n",
      "TESTING  2\n"
     ]
    },
    {
     "name": "stderr",
     "output_type": "stream",
     "text": [
      "/home/jacqueline/Desktop/CXIL/CXIL/caipi/CAipi_without_TKadd.py:109: UserWarning: To copy construct from a tensor, it is recommended to use sourceTensor.clone().detach() or sourceTensor.clone().detach().requires_grad_(True), rather than torch.tensor(sourceTensor).\n",
      "  training_data=TensorDataset(torch.tensor(x).float(),torch.tensor(label))\n",
      "/home/jacqueline/.local/share/virtualenvs/CXIL-SZXwGOj4/lib/python3.10/site-packages/sklearn/metrics/_classification.py:2981: UserWarning: The y_pred values do not sum to one. Starting from 1.5 thiswill result in an error.\n",
      "  warnings.warn(\n",
      "/home/jacqueline/.local/share/virtualenvs/CXIL-SZXwGOj4/lib/python3.10/site-packages/sklearn/metrics/_classification.py:2981: UserWarning: The y_pred values do not sum to one. Starting from 1.5 thiswill result in an error.\n",
      "  warnings.warn(\n"
     ]
    }
   ],
   "source": [
    "# Run\n",
    "acc,f1, precision, recall, loss_calc_train, loss_calc_test=cai.iterate(X[0][np.newaxis,:],np.array([y[0]]), taskid=None) "
   ]
  }
 ],
 "metadata": {
  "kernelspec": {
   "display_name": "CXIL-SZXwGOj4",
   "language": "python",
   "name": "python3"
  },
  "language_info": {
   "codemirror_mode": {
    "name": "ipython",
    "version": 3
   },
   "file_extension": ".py",
   "mimetype": "text/x-python",
   "name": "python",
   "nbconvert_exporter": "python",
   "pygments_lexer": "ipython3",
   "version": "3.10.12"
  }
 },
 "nbformat": 4,
 "nbformat_minor": 2
}
