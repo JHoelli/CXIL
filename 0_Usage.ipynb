{
 "cells": [
  {
   "cell_type": "markdown",
   "metadata": {},
   "source": [
    "# Usage \n",
    "This notebook visualizes how CXIL can be utilized. "
   ]
  },
  {
   "cell_type": "code",
   "execution_count": 1,
   "metadata": {},
   "outputs": [
    {
     "name": "stderr",
     "output_type": "stream",
     "text": [
      "/home/jacqueline/.local/share/virtualenvs/CXIL-SZXwGOj4/lib/python3.10/site-packages/tqdm/auto.py:21: TqdmWarning: IProgress not found. Please update jupyter and ipywidgets. See https://ipywidgets.readthedocs.io/en/stable/user_install.html\n",
      "  from .autonotebook import tqdm as notebook_tqdm\n"
     ]
    }
   ],
   "source": [
    "from captum.attr import InputXGradient\n",
    "import warnings\n",
    "from CXIL.caipi.Transformer import MeanAndStdTransformer, randomTransformer\n",
    "from CXIL.Benchmarking.metrics.Helper import get_mask\n",
    "from CXIL.Data.DataLoader import load_data_and_sim,timeseries\n",
    "from CXIL.Learning import LearnerStep, Replay\n",
    "from CXIL.Models.SimpleCNN import SimpleCNN,CNN\n",
    "from CXIL.Models.SimpleModel import SimpleMLP\n",
    "from CXIL.Models.Simple1DResNet import ResNetBaseline\n",
    "from CXIL.caipi.CAipi_without_TKadd import caipi\n",
    "from torch.utils.data import DataLoader\n",
    "from torch.utils.data import TensorDataset"
   ]
  },
  {
   "cell_type": "markdown",
   "metadata": {},
   "source": [
    "## Load Data\n",
    "\n",
    "The dataset should be a numpy array and the labels ordinal encoded. "
   ]
  },
  {
   "cell_type": "code",
   "execution_count": 3,
   "metadata": {},
   "outputs": [
    {
     "name": "stdout",
     "output_type": "stream",
     "text": [
      "/home/jacqueline/Desktop/CXIL/CXIL\n"
     ]
    },
    {
     "ename": "FileNotFoundError",
     "evalue": "[Errno 2] No such file or directory: './XIL/Data/data/simulated_tabular/15_10_0_10_0_train_x.npy'",
     "output_type": "error",
     "traceback": [
      "\u001b[0;31m---------------------------------------------------------------------------\u001b[0m",
      "\u001b[0;31mFileNotFoundError\u001b[0m                         Traceback (most recent call last)",
      "Cell \u001b[0;32mIn[3], line 3\u001b[0m\n\u001b[1;32m      1\u001b[0m \u001b[38;5;66;03m# Load the Data\u001b[39;00m\n\u001b[1;32m      2\u001b[0m dataset \u001b[38;5;241m=\u001b[39m\u001b[38;5;124m'\u001b[39m\u001b[38;5;124msimulated_tabular\u001b[39m\u001b[38;5;124m'\u001b[39m\n\u001b[0;32m----> 3\u001b[0m X,y,X_train,y_train,X_test,y_test, simulation\u001b[38;5;241m=\u001b[39m \u001b[43mload_data_and_sim\u001b[49m\u001b[43m(\u001b[49m\u001b[43mdataset\u001b[49m\u001b[43m)\u001b[49m\n",
      "File \u001b[0;32m~/Desktop/CXIL/CXIL/Data/DataLoader.py:1281\u001b[0m, in \u001b[0;36mload_data_and_sim\u001b[0;34m(name, cnn_mode, **kwargs)\u001b[0m\n\u001b[1;32m   1279\u001b[0m     \u001b[38;5;28;01mreturn\u001b[39;00m synthetic_tabular_classification(n_samples\u001b[38;5;241m=\u001b[39m\u001b[38;5;241m10000\u001b[39m, n_features\u001b[38;5;241m=\u001b[39m\u001b[38;5;241m15\u001b[39m, n_informative\u001b[38;5;241m=\u001b[39m\u001b[38;5;241m10\u001b[39m, n_redundant\u001b[38;5;241m=\u001b[39m\u001b[38;5;241m0\u001b[39m,n_classes\u001b[38;5;241m=\u001b[39m\u001b[38;5;241m10\u001b[39m,taskwise\u001b[38;5;241m=\u001b[39m\u001b[38;5;28;01mTrue\u001b[39;00m)\n\u001b[1;32m   1280\u001b[0m \u001b[38;5;28;01melif\u001b[39;00m\u001b[38;5;124m'\u001b[39m\u001b[38;5;124mtabular\u001b[39m\u001b[38;5;124m'\u001b[39m \u001b[38;5;129;01min\u001b[39;00m name: \n\u001b[0;32m-> 1281\u001b[0m     \u001b[38;5;28;01mreturn\u001b[39;00m \u001b[43msynthetic_tabular_classification\u001b[49m\u001b[43m(\u001b[49m\u001b[43mn_classes\u001b[49m\u001b[38;5;241;43m=\u001b[39;49m\u001b[38;5;241;43m10\u001b[39;49m\u001b[43m,\u001b[49m\u001b[38;5;241;43m*\u001b[39;49m\u001b[38;5;241;43m*\u001b[39;49m\u001b[43mkwargs\u001b[49m\u001b[43m)\u001b[49m\n\u001b[1;32m   1282\u001b[0m \u001b[38;5;28;01melif\u001b[39;00m name\u001b[38;5;241m==\u001b[39m\u001b[38;5;124m'\u001b[39m\u001b[38;5;124mtime10\u001b[39m\u001b[38;5;124m'\u001b[39m:\n\u001b[1;32m   1283\u001b[0m     \u001b[38;5;28;01mreturn\u001b[39;00m continous_timeseries_loader(root, taskwise\u001b[38;5;241m=\u001b[39m\u001b[38;5;28;01mFalse\u001b[39;00m,\u001b[38;5;241m*\u001b[39m\u001b[38;5;241m*\u001b[39mkwargs)\n",
      "File \u001b[0;32m~/Desktop/CXIL/CXIL/Data/DataLoader.py:1161\u001b[0m, in \u001b[0;36msynthetic_tabular_classification\u001b[0;34m(n_samples, n_features, n_informative, n_redundant, n_classes, taskwise, flip_y, class_mode, **kwargs)\u001b[0m\n\u001b[1;32m   1159\u001b[0m X,y\u001b[38;5;241m=\u001b[39m make_classification(n_samples\u001b[38;5;241m=\u001b[39mn_samples, n_features\u001b[38;5;241m=\u001b[39mn_features, n_informative\u001b[38;5;241m=\u001b[39mn_informative, n_redundant\u001b[38;5;241m=\u001b[39mn_redundant,n_classes\u001b[38;5;241m=\u001b[39mn_classes,shuffle\u001b[38;5;241m=\u001b[39m\u001b[38;5;28;01mFalse\u001b[39;00m,flip_y\u001b[38;5;241m=\u001b[39mflip_y, \u001b[38;5;241m*\u001b[39m\u001b[38;5;241m*\u001b[39mkwargs)\n\u001b[1;32m   1160\u001b[0m X_train_full, X_test, y_train_full, y_test\u001b[38;5;241m=\u001b[39mtrain_test_split(X,y,random_state\u001b[38;5;241m=\u001b[39m\u001b[38;5;241m0\u001b[39m)\n\u001b[0;32m-> 1161\u001b[0m \u001b[38;5;28;01mwith\u001b[39;00m \u001b[38;5;28;43mopen\u001b[39;49m\u001b[43m(\u001b[49m\u001b[38;5;124;43mf\u001b[39;49m\u001b[38;5;124;43m'\u001b[39;49m\u001b[38;5;124;43m./XIL/Data/data/simulated_tabular/\u001b[39;49m\u001b[38;5;132;43;01m{\u001b[39;49;00m\u001b[43mn_features\u001b[49m\u001b[38;5;132;43;01m}\u001b[39;49;00m\u001b[38;5;124;43m_\u001b[39;49m\u001b[38;5;132;43;01m{\u001b[39;49;00m\u001b[43mn_informative\u001b[49m\u001b[38;5;132;43;01m}\u001b[39;49;00m\u001b[38;5;124;43m_\u001b[39;49m\u001b[38;5;132;43;01m{\u001b[39;49;00m\u001b[43mn_redundant\u001b[49m\u001b[38;5;132;43;01m}\u001b[39;49;00m\u001b[38;5;124;43m_\u001b[39;49m\u001b[38;5;132;43;01m{\u001b[39;49;00m\u001b[43mn_classes\u001b[49m\u001b[38;5;132;43;01m}\u001b[39;49;00m\u001b[38;5;124;43m_\u001b[39;49m\u001b[38;5;132;43;01m{\u001b[39;49;00m\u001b[43mflip_y\u001b[49m\u001b[38;5;132;43;01m}\u001b[39;49;00m\u001b[38;5;124;43m_train_x.npy\u001b[39;49m\u001b[38;5;124;43m'\u001b[39;49m\u001b[43m,\u001b[49m\u001b[43m \u001b[49m\u001b[38;5;124;43m'\u001b[39;49m\u001b[38;5;124;43mwb\u001b[39;49m\u001b[38;5;124;43m'\u001b[39;49m\u001b[43m)\u001b[49m \u001b[38;5;28;01mas\u001b[39;00m f:\n\u001b[1;32m   1162\u001b[0m     np\u001b[38;5;241m.\u001b[39msave(f,X_train_full)\n\u001b[1;32m   1164\u001b[0m \u001b[38;5;28;01mwith\u001b[39;00m \u001b[38;5;28mopen\u001b[39m(\u001b[38;5;124mf\u001b[39m\u001b[38;5;124m'\u001b[39m\u001b[38;5;124m./XIL/Data/data/simulated_tabular/\u001b[39m\u001b[38;5;132;01m{\u001b[39;00mn_features\u001b[38;5;132;01m}\u001b[39;00m\u001b[38;5;124m_\u001b[39m\u001b[38;5;132;01m{\u001b[39;00mn_informative\u001b[38;5;132;01m}\u001b[39;00m\u001b[38;5;124m_\u001b[39m\u001b[38;5;132;01m{\u001b[39;00mn_redundant\u001b[38;5;132;01m}\u001b[39;00m\u001b[38;5;124m_\u001b[39m\u001b[38;5;132;01m{\u001b[39;00mn_classes\u001b[38;5;132;01m}\u001b[39;00m\u001b[38;5;124m_\u001b[39m\u001b[38;5;132;01m{\u001b[39;00mflip_y\u001b[38;5;132;01m}\u001b[39;00m\u001b[38;5;124m_train_y.npy\u001b[39m\u001b[38;5;124m'\u001b[39m, \u001b[38;5;124m'\u001b[39m\u001b[38;5;124mwb\u001b[39m\u001b[38;5;124m'\u001b[39m) \u001b[38;5;28;01mas\u001b[39;00m f:\n",
      "\u001b[0;31mFileNotFoundError\u001b[0m: [Errno 2] No such file or directory: './XIL/Data/data/simulated_tabular/15_10_0_10_0_train_x.npy'"
     ]
    }
   ],
   "source": [
    "# Load the Data\n",
    "dataset ='tabular'\n",
    "X,y,X_train,y_train,X_test,y_test, simulation= load_data_and_sim(dataset)"
   ]
  },
  {
   "cell_type": "markdown",
   "metadata": {},
   "source": [
    "## Initialize Model \n",
    "Initalize the model you want to use for the task, the models weigjhts can be untrained or trained."
   ]
  },
  {
   "cell_type": "code",
   "execution_count": null,
   "metadata": {},
   "outputs": [],
   "source": [
    "# Initialize a Model \n",
    "model = SimpleMLP(10, 748)"
   ]
  },
  {
   "cell_type": "markdown",
   "metadata": {},
   "source": [
    "# Build the CXIL Learner \n",
    "\n",
    "The Basic learner can be any of the continous algorithms contained in this Package. For the exact parameter option, please refer to the code documentation.\n"
   ]
  },
  {
   "cell_type": "markdown",
   "metadata": {},
   "source": [
    "Learner Options: \n",
    "- MAS.MAS\n",
    "- Synaptic_Intelligence.Synaptic_Intelligence\n",
    "- EWC.Elastic_Weight_Regularizer"
   ]
  },
  {
   "cell_type": "code",
   "execution_count": null,
   "metadata": {},
   "outputs": [],
   "source": [
    "# Choose a Learner\n",
    "learn = LearnerStep.Basic(model)"
   ]
  },
  {
   "cell_type": "code",
   "execution_count": null,
   "metadata": {},
   "outputs": [],
   "source": [
    "# Choose a Replay Strategy -- Not necessary, if you do not want to use replay.\n",
    "learn_replay=Replay.ReplayStrategyLearner(learn, num_classes=10,mem_size = 100,batch_size= 32)"
   ]
  },
  {
   "cell_type": "code",
   "execution_count": null,
   "metadata": {},
   "outputs": [],
   "source": [
    "# Choose the Interaction Type\n",
    "# For RRR\n",
    "#loss= LearnerStep.RRR_Learner(InputXGradient,simulation,model)\n",
    "#int_train= RightRightReasons.RRR(model,learn,test_data=(X_test,y_test),simulation_logic=simulation,silent=0)\n",
    "# For CAIPI\n",
    "cai=caipi(model,  learn_replay,transformer=MeanAndStdTransformer(model,num_samples=1), evaluate_data= (X_test,y_test),silent=1,simulation_logic=simulation)"
   ]
  },
  {
   "cell_type": "markdown",
   "metadata": {},
   "source": [
    "## Learn a Sample"
   ]
  },
  {
   "cell_type": "code",
   "execution_count": null,
   "metadata": {},
   "outputs": [],
   "source": [
    "# Run\n",
    "acc,f1, precision, recall, loss_calc_train, loss_calc_test=cai.iterate(X,y, taskid=None) "
   ]
  }
 ],
 "metadata": {
  "kernelspec": {
   "display_name": "CXIL-SZXwGOj4",
   "language": "python",
   "name": "python3"
  },
  "language_info": {
   "codemirror_mode": {
    "name": "ipython",
    "version": 3
   },
   "file_extension": ".py",
   "mimetype": "text/x-python",
   "name": "python",
   "nbconvert_exporter": "python",
   "pygments_lexer": "ipython3",
   "version": "3.10.12"
  }
 },
 "nbformat": 4,
 "nbformat_minor": 2
}
